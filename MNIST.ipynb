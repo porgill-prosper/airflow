{
  "nbformat": 4,
  "nbformat_minor": 0,
  "metadata": {
    "colab": {
      "name": "Welcome To Colaboratory",
      "provenance": [],
      "collapsed_sections": [],
      "toc_visible": true,
      "include_colab_link": true
    },
    "kernelspec": {
      "display_name": "Python 3",
      "name": "python3"
    }
  },
  "cells": [
    {
      "cell_type": "markdown",
      "metadata": {
        "id": "view-in-github",
        "colab_type": "text"
      },
      "source": [
        "<a href=\"https://colab.research.google.com/github/porgill-prosper/airflow/blob/master/MNIST.ipynb\" target=\"_parent\"><img src=\"https://colab.research.google.com/assets/colab-badge.svg\" alt=\"Open In Colab\"/></a>"
      ]
    },
    {
      "cell_type": "markdown",
      "metadata": {
        "colab_type": "text",
        "id": "5fCEDCU_qrC0"
      },
      "source": [
        "<p><img alt=\"Colaboratory logo\" height=\"45px\" src=\"/img/colab_favicon.ico\" align=\"left\" hspace=\"10px\" vspace=\"0px\"></p>\n",
        "\n",
        "<h1>MNIST</h1>\n",
        "\n",
        "PyTorch number classification\n"
      ]
    },
    {
      "cell_type": "code",
      "metadata": {
        "colab_type": "code",
        "id": "gJr_9dXGpJ05",
        "colab": {}
      },
      "source": [
        "#!pip3 install torch torchvision"
      ],
      "execution_count": 0,
      "outputs": []
    },
    {
      "cell_type": "code",
      "metadata": {
        "id": "9vQRSXMOCxm2",
        "colab_type": "code",
        "colab": {}
      },
      "source": [
        "import torch\n",
        "from torchvision import datasets, transforms\n",
        "import torch.nn as nn\n",
        "import torch.nn.functional as F\n",
        "import numpy as np\n",
        "import matplotlib.pyplot as plt\n",
        "#from sklearn import datasets"
      ],
      "execution_count": 0,
      "outputs": []
    },
    {
      "cell_type": "code",
      "metadata": {
        "id": "r_ofuJbWV1Ie",
        "colab_type": "code",
        "colab": {}
      },
      "source": [
        "transform = transforms.Compose([transforms.Resize((28,28)), transforms.ToTensor(), transforms.Normalize((.5,), (.5,))])\n",
        "train_dataset = datasets.MNIST(root='./data', train=True, download=True, transform=transform)\n",
        "test_dataset = datasets.MNIST(root='./data', train=False, download=True, transform=transform)\n",
        "#training_dataset\n",
        "train_loader = torch.utils.data.DataLoader(dataset=train_dataset, batch_size=100, shuffle=True)\n",
        "test_loader = torch.utils.data.DataLoader(dataset=test_dataset, batch_size=100, shuffle=False)"
      ],
      "execution_count": 0,
      "outputs": []
    },
    {
      "cell_type": "code",
      "metadata": {
        "id": "stgOvsK1Ku3b",
        "colab_type": "code",
        "colab": {}
      },
      "source": [
        "def im_convert(tensor):\n",
        "  image = tensor.clone().detach().numpy()\n",
        "  image = image.transpose(1, 2, 0)\n",
        "  #print(image.shape)\n",
        "  image = image * np.array((.5,.5,.5)) + np.array((.5, .5, .5))\n",
        "  image = image.clip(0, 1)\n",
        "  return image\n",
        "\n"
      ],
      "execution_count": 0,
      "outputs": []
    },
    {
      "cell_type": "code",
      "metadata": {
        "id": "MOfVXNjlZcgN",
        "colab_type": "code",
        "colab": {
          "base_uri": "https://localhost:8080/",
          "height": 218
        },
        "outputId": "a5affa74-3964-423e-e96b-3ad1d2d44ee7"
      },
      "source": [
        "dataiter = iter(train_loader)\n",
        "images, labels = dataiter.next()\n",
        "fig = plt.figure(figsize=(25,4))\n",
        "\n",
        "for idx in np.arange(20):\n",
        "  ax = fig.add_subplot(2, 10, idx+1, xticks=[], yticks=[])\n",
        "  plt.imshow(im_convert(images[idx]))\n",
        "  ax.set_title([labels[idx].item()])\n"
      ],
      "execution_count": 5,
      "outputs": [
        {
          "output_type": "display_data",
          "data": {
            "image/png": "[encoded data removed]",
            "text/plain": [
              "<Figure size 1800x288 with 20 Axes>"
            ]
          },
          "metadata": {
            "tags": []
          }
        }
      ]
    },
    {
      "cell_type": "code",
      "metadata": {
        "id": "XYp95sALbTQS",
        "colab_type": "code",
        "colab": {}
      },
      "source": [
        "class Classifier(nn.Module):\n",
        "  def __init__(self, D_in, H1, H2, D_out):\n",
        "    super().__init__()\n",
        "    self.linear1 = nn.Linear(D_in, H1)\n",
        "    self.linear2 = nn.Linear(H1, H2)\n",
        "    self.linear3 = nn.Linear(H2, D_out)\n",
        "  def forward(self, x):\n",
        "    x = F.relu(self.linear1(x))\n",
        "    x = F.relu(self.linear2(x))\n",
        "    x = self.linear3(x)\n",
        "    return x\n",
        "    "
      ],
      "execution_count": 0,
      "outputs": []
    },
    {
      "cell_type": "code",
      "metadata": {
        "id": "Wo0wutvQk2wF",
        "colab_type": "code",
        "colab": {}
      },
      "source": [
        "model = Classifier(784, 125, 65, 10)\n",
        "#model"
      ],
      "execution_count": 0,
      "outputs": []
    },
    {
      "cell_type": "code",
      "metadata": {
        "id": "6ejwRr1WlNNk",
        "colab_type": "code",
        "colab": {}
      },
      "source": [
        "criterion = nn.CrossEntropyLoss()\n",
        "optimizer = torch.optim.Adam(model.parameters(), lr = 0.00005)"
      ],
      "execution_count": 0,
      "outputs": []
    },
    {
      "cell_type": "code",
      "metadata": {
        "id": "j0h4gvP3lhMr",
        "colab_type": "code",
        "colab": {
          "base_uri": "https://localhost:8080/",
          "height": 521
        },
        "outputId": "361ebf45-0e9d-4020-a125-590710daad6c"
      },
      "source": [
        "epochs = 10\n",
        "running_loss_history = []\n",
        "running_correct_history = []\n",
        "test_running_loss_history = []\n",
        "test_running_correct_history = []\n",
        "\n",
        "for e in range(epochs):\n",
        "\n",
        "  running_loss = 0.0\n",
        "  running_corrects = 0.0\n",
        "  test_running_loss = 0.0\n",
        "  test_running_corrects = 0.0\n",
        "\n",
        "  for inputs, labels in train_loader:\n",
        "    inputs = inputs.view(inputs.shape[0], -1) #1, 28, 28 flattened to 1,784\n",
        "    outputs = model(inputs)\n",
        "    loss = criterion(outputs, labels)\n",
        "\n",
        "    optimizer.zero_grad\n",
        "    loss.backward()\n",
        "    optimizer.step()\n",
        "\n",
        "    _, preds = torch.max(outputs, 1)\n",
        "    running_corrects += torch.sum(preds == labels.data)\n",
        "    running_loss += loss.item()\n",
        "\n",
        "  else:\n",
        "    with torch.no_grad():\n",
        "      for test_inputs, test_labels in test_loader:\n",
        "        test_inputs = test_inputs.view(test_inputs.shape[0], -1)\n",
        "        test_outputs = model(test_inputs)\n",
        "        test_loss = criterion(test_outputs, test_labels)\n",
        "\n",
        "        _, test_preds = torch.max(test_outputs, 1)\n",
        "        test_running_loss += test_loss.item()\n",
        "        test_running_corrects += torch.sum(test_preds == test_labels.data)\n",
        "        \n",
        "    epoch_loss = running_loss / len(train_loader)\n",
        "    epoch_acc = running_corrects.float() / len(train_loader)\n",
        "    running_loss_history.append(epoch_loss)\n",
        "    running_correct_history.append(epoch_acc)\n",
        "\n",
        "    test_epoch_loss = test_running_loss / len(test_loader)\n",
        "    test_epoch_acc = test_running_corrects.float() / len(test_loader)\n",
        "    test_running_loss_history.append(test_epoch_loss)\n",
        "    test_running_correct_history.append(test_epoch_acc)\n",
        "\n",
        "    print('epoch : ', e+1)\n",
        "    print('train loss: {:.4f}, train accept {:.4f}'.format(epoch_loss, epoch_acc))\n",
        "    print('test loss: {:.4f}, test accept {:.4f}'.format(test_epoch_loss, test_epoch_acc))\n",
        "\n"
      ],
      "execution_count": 13,
      "outputs": [
        {
          "output_type": "stream",
          "text": [
            "epoch :  1\n",
            "train loss: 0.6355, train accept 83.2450\n",
            "test loss: 0.5999, test accept 84.7500\n",
            "epoch :  2\n",
            "train loss: 0.5927, train accept 83.8750\n",
            "test loss: 0.5317, test accept 85.9500\n",
            "epoch :  3\n",
            "train loss: 0.5613, train accept 84.7150\n",
            "test loss: 0.5517, test accept 84.3000\n",
            "epoch :  4\n",
            "train loss: 0.5510, train accept 84.8050\n",
            "test loss: 0.5042, test accept 86.2400\n",
            "epoch :  5\n",
            "train loss: 0.5462, train accept 85.3283\n",
            "test loss: 0.5278, test accept 85.8100\n",
            "epoch :  6\n",
            "train loss: 0.5303, train accept 85.5483\n",
            "test loss: 0.5013, test accept 86.4100\n",
            "epoch :  7\n",
            "train loss: 0.5275, train accept 85.5717\n",
            "test loss: 0.4965, test accept 86.2600\n",
            "epoch :  8\n",
            "train loss: 0.5140, train accept 86.1883\n",
            "test loss: 0.4927, test accept 87.3500\n",
            "epoch :  9\n",
            "train loss: 0.4987, train accept 86.7150\n",
            "test loss: 0.4924, test accept 87.0900\n",
            "epoch :  10\n",
            "train loss: 0.4958, train accept 87.1700\n",
            "test loss: 0.4813, test accept 87.1800\n"
          ],
          "name": "stdout"
        }
      ]
    },
    {
      "cell_type": "code",
      "metadata": {
        "id": "ExLZvdAitNPJ",
        "colab_type": "code",
        "colab": {
          "base_uri": "https://localhost:8080/",
          "height": 282
        },
        "outputId": "38472a53-e2f6-4c3d-8648-f2c1628680d0"
      },
      "source": [
        "plt.plot(running_loss_history, label='train loss')\n",
        "plt.plot(test_running_loss_history, label='test loss')\n",
        "plt.legend()"
      ],
      "execution_count": 10,
      "outputs": [
        {
          "output_type": "execute_result",
          "data": {
            "text/plain": [
              "<matplotlib.legend.Legend at 0x7f442c353898>"
            ]
          },
          "metadata": {
            "tags": []
          },
          "execution_count": 10
        },
        {
          "output_type": "display_data",
          "data": {
            "image/png": "[encoded data removed]",
            "text/plain": [
              "<Figure size 432x288 with 1 Axes>"
            ]
          },
          "metadata": {
            "tags": [],
            "needs_background": "light"
          }
        }
      ]
    },
    {
      "cell_type": "code",
      "metadata": {
        "id": "c_vrQ8EFyqIA",
        "colab_type": "code",
        "colab": {
          "base_uri": "https://localhost:8080/",
          "height": 286
        },
        "outputId": "737f6207-2e24-4c69-f06a-811ac6376801"
      },
      "source": [
        "plt.plot(running_correct_history, label='train accuracy')\n",
        "plt.plot(test_running_correct_history)"
      ],
      "execution_count": 11,
      "outputs": [
        {
          "output_type": "execute_result",
          "data": {
            "text/plain": [
              "[<matplotlib.lines.Line2D at 0x7f4496a33518>]"
            ]
          },
          "metadata": {
            "tags": []
          },
          "execution_count": 11
        },
        {
          "output_type": "display_data",
          "data": {
            "image/png": "[encoded data removed]",
            "text/plain": [
              "<Figure size 432x288 with 1 Axes>"
            ]
          },
          "metadata": {
            "tags": [],
            "needs_background": "light"
          }
        }
      ]
    },
    {
      "cell_type": "code",
      "metadata": {
        "id": "eAiZQBeKtyqr",
        "colab_type": "code",
        "colab": {}
      },
      "source": [
        "#!pip3 install pillow==4.0\n",
        "import requests\n",
        "import PIL.ImageOps\n",
        "from PIL import Image\n",
        "url = 'https://images.homedepot-static.com/productImages/007164ea-d47e-4f66-8d8c-fd9f621984a2/svn/architectural-mailboxes-house-letters-numbers-3585b-5-64_1000.jpg'\n",
        "response = requests.get(url, stream = True)\n",
        "#print response\n",
        "img = Image.open(response.raw)\n",
        "#plt.imshow(open)"
      ],
      "execution_count": 0,
      "outputs": []
    },
    {
      "cell_type": "code",
      "metadata": {
        "id": "X4J1s_2LIKkw",
        "colab_type": "code",
        "colab": {
          "base_uri": "https://localhost:8080/",
          "height": 195
        },
        "outputId": "19e1127c-d77e-455b-a7c2-d7d374b9f92c"
      },
      "source": [
        "img = PIL.ImageOps.invert(img)\n",
        "img = img.convert('1')\n",
        "img = transform(img) \n",
        "plt.imshow(im_convert(img))"
      ],
      "execution_count": 10,
      "outputs": [
        {
          "output_type": "error",
          "ename": "NameError",
          "evalue": "ignored",
          "traceback": [
            "\u001b[0;31m---------------------------------------------------------------------------\u001b[0m",
            "\u001b[0;31mNameError\u001b[0m                                 Traceback (most recent call last)",
            "\u001b[0;32m<ipython-input-10-f48e0232bcf5>\u001b[0m in \u001b[0;36m<module>\u001b[0;34m()\u001b[0m\n\u001b[1;32m      2\u001b[0m \u001b[0mimg\u001b[0m \u001b[0;34m=\u001b[0m \u001b[0mimg\u001b[0m\u001b[0;34m.\u001b[0m\u001b[0mconvert\u001b[0m\u001b[0;34m(\u001b[0m\u001b[0;34m'1'\u001b[0m\u001b[0;34m)\u001b[0m\u001b[0;34m\u001b[0m\u001b[0;34m\u001b[0m\u001b[0m\n\u001b[1;32m      3\u001b[0m \u001b[0mimg\u001b[0m \u001b[0;34m=\u001b[0m \u001b[0mtransform\u001b[0m\u001b[0;34m(\u001b[0m\u001b[0mimg\u001b[0m\u001b[0;34m)\u001b[0m\u001b[0;34m\u001b[0m\u001b[0;34m\u001b[0m\u001b[0m\n\u001b[0;32m----> 4\u001b[0;31m \u001b[0mplt\u001b[0m\u001b[0;34m.\u001b[0m\u001b[0mimshow\u001b[0m\u001b[0;34m(\u001b[0m\u001b[0mim_convert\u001b[0m\u001b[0;34m(\u001b[0m\u001b[0mimg\u001b[0m\u001b[0;34m)\u001b[0m\u001b[0;34m)\u001b[0m\u001b[0;34m\u001b[0m\u001b[0;34m\u001b[0m\u001b[0m\n\u001b[0m",
            "\u001b[0;31mNameError\u001b[0m: name 'im_convert' is not defined"
          ]
        }
      ]
    },
    {
      "cell_type": "code",
      "metadata": {
        "id": "QCYJW5vXH4TK",
        "colab_type": "code",
        "colab": {}
      },
      "source": [
        ""
      ],
      "execution_count": 0,
      "outputs": []
    }
  ]
}