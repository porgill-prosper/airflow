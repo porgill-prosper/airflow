{
  "nbformat": 4,
  "nbformat_minor": 0,
  "metadata": {
    "colab": {
      "name": "Welcome To Colaboratory",
      "provenance": [],
      "collapsed_sections": [],
      "toc_visible": true,
      "include_colab_link": true
    },
    "kernelspec": {
      "display_name": "Python 3",
      "name": "python3"
    }
  },
  "cells": [
    {
      "cell_type": "markdown",
      "metadata": {
        "id": "view-in-github",
        "colab_type": "text"
      },
      "source": [
        "<a href=\"https://colab.research.google.com/github/porgill-prosper/airflow/blob/master/LinearModel.ipynb\" target=\"_parent\"><img src=\"https://colab.research.google.com/assets/colab-badge.svg\" alt=\"Open In Colab\"/></a>"
      ]
    },
    {
      "cell_type": "markdown",
      "metadata": {
        "colab_type": "text",
        "id": "5fCEDCU_qrC0"
      },
      "source": [
        "<p><img alt=\"Colaboratory logo\" height=\"45px\" src=\"/img/colab_favicon.ico\" align=\"left\" hspace=\"10px\" vspace=\"0px\"></p>\n",
        "\n",
        "<h1>Linear Regression</h1>\n",
        "\n",
        "PyTorch\n"
      ]
    },
    {
      "cell_type": "code",
      "metadata": {
        "colab_type": "code",
        "id": "gJr_9dXGpJ05",
        "colab": {}
      },
      "source": [
        "#!pip3 install torch"
      ],
      "execution_count": 0,
      "outputs": []
    },
    {
      "cell_type": "code",
      "metadata": {
        "id": "9vQRSXMOCxm2",
        "colab_type": "code",
        "colab": {}
      },
      "source": [
        "import torch\n",
        "import torch.nn as nn\n",
        "import numpy as np\n",
        "import matplotlib.pyplot as plt"
      ],
      "execution_count": 0,
      "outputs": []
    },
    {
      "cell_type": "code",
      "metadata": {
        "id": "cELI8SNOfwsV",
        "colab_type": "code",
        "colab": {
          "base_uri": "https://localhost:8080/",
          "height": 296
        },
        "outputId": "a99db95b-a65c-4a00-aa70-9c5aa661ef84"
      },
      "source": [
        "x = torch.randn(100, 1)*10\n",
        "y = x + torch.randn(100, 1)*3\n",
        "plt.plot(x.numpy(), y.numpy(), 'o')\n",
        "plt.ylabel('y')\n",
        "plt.xlabel('x')"
      ],
      "execution_count": 3,
      "outputs": [
        {
          "output_type": "execute_result",
          "data": {
            "text/plain": [
              "Text(0.5, 0, 'x')"
            ]
          },
          "metadata": {
            "tags": []
          },
          "execution_count": 3
        },
        {
          "output_type": "display_data",
          "data": {
            "image/png": "[encoded data removed]",
            "text/plain": [
              "<Figure size 432x288 with 1 Axes>"
            ]
          },
          "metadata": {
            "tags": [],
            "needs_background": "light"
          }
        }
      ]
    },
    {
      "cell_type": "code",
      "metadata": {
        "id": "uGV-Anf9aYrU",
        "colab_type": "code",
        "colab": {
          "base_uri": "https://localhost:8080/",
          "height": 68
        },
        "outputId": "ecd0157e-b227-4aba-9fba-9abace970e22"
      },
      "source": [
        "torch.manual_seed(1)\n",
        "model = nn.Linear(in_features=1, out_features=1)\n",
        "print(model.bias, model.weight)"
      ],
      "execution_count": 4,
      "outputs": [
        {
          "output_type": "stream",
          "text": [
            "Parameter containing:\n",
            "tensor([-0.4414], requires_grad=True) Parameter containing:\n",
            "tensor([[0.5153]], requires_grad=True)\n"
          ],
          "name": "stdout"
        }
      ]
    },
    {
      "cell_type": "code",
      "metadata": {
        "id": "qk29A2WwbjWw",
        "colab_type": "code",
        "colab": {}
      },
      "source": [
        "class LR(nn.Module):\n",
        "  def __init__(self, input_size, output_size):\n",
        "    super().__init__()\n",
        "    self.linear = nn.Linear(input_size, output_size)\n",
        "  def forward(self, x):\n",
        "    pred = self.linear(x)\n",
        "    return pred"
      ],
      "execution_count": 0,
      "outputs": []
    },
    {
      "cell_type": "code",
      "metadata": {
        "id": "76-yILjxcl1g",
        "colab_type": "code",
        "colab": {
          "base_uri": "https://localhost:8080/",
          "height": 68
        },
        "outputId": "42895a4b-bde5-4650-ef8d-ac2cfe815191"
      },
      "source": [
        "torch.manual_seed(1)\n",
        "model = LR(1, 1)\n",
        "#print(list(model.parameters()))\n",
        "print(model)"
      ],
      "execution_count": 6,
      "outputs": [
        {
          "output_type": "stream",
          "text": [
            "LR(\n",
            "  (linear): Linear(in_features=1, out_features=1, bias=True)\n",
            ")\n"
          ],
          "name": "stdout"
        }
      ]
    },
    {
      "cell_type": "code",
      "metadata": {
        "id": "z5HRQhKVc8Qy",
        "colab_type": "code",
        "colab": {}
      },
      "source": [
        "#x = torch.tensor([[1.0], [2.0]])\n",
        "#print(model.forward(x))"
      ],
      "execution_count": 0,
      "outputs": []
    },
    {
      "cell_type": "code",
      "metadata": {
        "id": "OVGVy7tqeiVz",
        "colab_type": "code",
        "colab": {}
      },
      "source": [
        "[w, b] = model.parameters()\n",
        "#w1 = w[0][0].item()\n",
        "#b1 = b[0].item()\n",
        "#print(w1, b1)\n",
        "def get_params():\n",
        "  return (w[0][0].item(), b[0].item())"
      ],
      "execution_count": 0,
      "outputs": []
    },
    {
      "cell_type": "code",
      "metadata": {
        "id": "4mXJXoKqhcfG",
        "colab_type": "code",
        "colab": {}
      },
      "source": [
        "def plot_fit(title):\n",
        "  plt.title = title\n",
        "  w1, b1 = get_params()\n",
        "  x1 = np.array([-30, 30])\n",
        "  y1 = w1*x1 + b1\n",
        "  plt.plot(x1, y1, 'r')\n",
        "  plt.scatter(x,y)\n",
        "  plt.show()\n"
      ],
      "execution_count": 0,
      "outputs": []
    },
    {
      "cell_type": "code",
      "metadata": {
        "id": "8svYg3QAi66E",
        "colab_type": "code",
        "colab": {
          "base_uri": "https://localhost:8080/",
          "height": 265
        },
        "outputId": "5ab3a9b1-80e2-4860-a274-03f38feb1420"
      },
      "source": [
        "plot_fit('initial model')"
      ],
      "execution_count": 10,
      "outputs": [
        {
          "output_type": "display_data",
          "data": {
            "image/png": "[encoded data removed]",
            "text/plain": [
              "<Figure size 432x288 with 1 Axes>"
            ]
          },
          "metadata": {
            "tags": [],
            "needs_background": "light"
          }
        }
      ]
    },
    {
      "cell_type": "code",
      "metadata": {
        "id": "jX7Fau8CjKgy",
        "colab_type": "code",
        "colab": {}
      },
      "source": [
        "criterion = nn.MSELoss()\n",
        "optimizer = torch.optim.SGD(model.parameters(), lr = 0.01)\n"
      ],
      "execution_count": 0,
      "outputs": []
    },
    {
      "cell_type": "code",
      "metadata": {
        "id": "clcBS1SIpIKQ",
        "colab_type": "code",
        "colab": {
          "base_uri": "https://localhost:8080/",
          "height": 1000
        },
        "outputId": "7b7f7086-036f-4f89-c2bc-11009176db4d"
      },
      "source": [
        "epochs = 100\n",
        "losses = []\n",
        "for i in range(epochs):\n",
        "  y_pred = model.forward(x)\n",
        "  loss = criterion(y_pred, y)\n",
        "  print(\"epoch:\", i, \"loss:\", loss.item())\n",
        "\n",
        "  losses.append(loss)\n",
        "  optimizer.zero_grad()\n",
        "  loss.backward()\n",
        "  optimizer.step()"
      ],
      "execution_count": 12,
      "outputs": [
        {
          "output_type": "stream",
          "text": [
            "epoch: 0 loss: 29.853628158569336\n",
            "epoch: 1 loss: 24.58599090576172\n",
            "epoch: 2 loss: 20.696008682250977\n",
            "epoch: 3 loss: 17.8228816986084\n",
            "epoch: 4 loss: 15.700340270996094\n",
            "epoch: 5 loss: 14.131854057312012\n",
            "epoch: 6 loss: 12.972358703613281\n",
            "epoch: 7 loss: 12.114802360534668\n",
            "epoch: 8 loss: 11.480164527893066\n",
            "epoch: 9 loss: 11.010117530822754\n",
            "epoch: 10 loss: 10.661617279052734\n",
            "epoch: 11 loss: 10.402884483337402\n",
            "epoch: 12 loss: 10.210467338562012\n",
            "epoch: 13 loss: 10.067051887512207\n",
            "epoch: 14 loss: 9.959856033325195\n",
            "epoch: 15 loss: 9.879446029663086\n",
            "epoch: 16 loss: 9.818857192993164\n",
            "epoch: 17 loss: 9.77294635772705\n",
            "epoch: 18 loss: 9.737914085388184\n",
            "epoch: 19 loss: 9.710958480834961\n",
            "epoch: 20 loss: 9.690004348754883\n",
            "epoch: 21 loss: 9.673523902893066\n",
            "epoch: 22 loss: 9.660383224487305\n",
            "epoch: 23 loss: 9.649748802185059\n",
            "epoch: 24 loss: 9.640998840332031\n",
            "epoch: 25 loss: 9.633672714233398\n",
            "epoch: 26 loss: 9.627437591552734\n",
            "epoch: 27 loss: 9.622035026550293\n",
            "epoch: 28 loss: 9.617281913757324\n",
            "epoch: 29 loss: 9.613037109375\n",
            "epoch: 30 loss: 9.6091947555542\n",
            "epoch: 31 loss: 9.605679512023926\n",
            "epoch: 32 loss: 9.602432250976562\n",
            "epoch: 33 loss: 9.599406242370605\n",
            "epoch: 34 loss: 9.596571922302246\n",
            "epoch: 35 loss: 9.593900680541992\n",
            "epoch: 36 loss: 9.591371536254883\n",
            "epoch: 37 loss: 9.588972091674805\n",
            "epoch: 38 loss: 9.586686134338379\n",
            "epoch: 39 loss: 9.584506034851074\n",
            "epoch: 40 loss: 9.58242416381836\n",
            "epoch: 41 loss: 9.580430030822754\n",
            "epoch: 42 loss: 9.578522682189941\n",
            "epoch: 43 loss: 9.576696395874023\n",
            "epoch: 44 loss: 9.574943542480469\n",
            "epoch: 45 loss: 9.573261260986328\n",
            "epoch: 46 loss: 9.571649551391602\n",
            "epoch: 47 loss: 9.570100784301758\n",
            "epoch: 48 loss: 9.56861400604248\n",
            "epoch: 49 loss: 9.567188262939453\n",
            "epoch: 50 loss: 9.565817832946777\n",
            "epoch: 51 loss: 9.564502716064453\n",
            "epoch: 52 loss: 9.563237190246582\n",
            "epoch: 53 loss: 9.562023162841797\n",
            "epoch: 54 loss: 9.560857772827148\n",
            "epoch: 55 loss: 9.559736251831055\n",
            "epoch: 56 loss: 9.558662414550781\n",
            "epoch: 57 loss: 9.557628631591797\n",
            "epoch: 58 loss: 9.556635856628418\n",
            "epoch: 59 loss: 9.555682182312012\n",
            "epoch: 60 loss: 9.554766654968262\n",
            "epoch: 61 loss: 9.553886413574219\n",
            "epoch: 62 loss: 9.553041458129883\n",
            "epoch: 63 loss: 9.552227020263672\n",
            "epoch: 64 loss: 9.551447868347168\n",
            "epoch: 65 loss: 9.550698280334473\n",
            "epoch: 66 loss: 9.549978256225586\n",
            "epoch: 67 loss: 9.549286842346191\n",
            "epoch: 68 loss: 9.548624038696289\n",
            "epoch: 69 loss: 9.547985076904297\n",
            "epoch: 70 loss: 9.547372817993164\n",
            "epoch: 71 loss: 9.546783447265625\n",
            "epoch: 72 loss: 9.546218872070312\n",
            "epoch: 73 loss: 9.545675277709961\n",
            "epoch: 74 loss: 9.545151710510254\n",
            "epoch: 75 loss: 9.54465103149414\n",
            "epoch: 76 loss: 9.544168472290039\n",
            "epoch: 77 loss: 9.543705940246582\n",
            "epoch: 78 loss: 9.543261528015137\n",
            "epoch: 79 loss: 9.542834281921387\n",
            "epoch: 80 loss: 9.542424201965332\n",
            "epoch: 81 loss: 9.542030334472656\n",
            "epoch: 82 loss: 9.541651725769043\n",
            "epoch: 83 loss: 9.541287422180176\n",
            "epoch: 84 loss: 9.540938377380371\n",
            "epoch: 85 loss: 9.540602684020996\n",
            "epoch: 86 loss: 9.540279388427734\n",
            "epoch: 87 loss: 9.539970397949219\n",
            "epoch: 88 loss: 9.539673805236816\n",
            "epoch: 89 loss: 9.539386749267578\n",
            "epoch: 90 loss: 9.539112091064453\n",
            "epoch: 91 loss: 9.538847923278809\n",
            "epoch: 92 loss: 9.538595199584961\n",
            "epoch: 93 loss: 9.538352966308594\n",
            "epoch: 94 loss: 9.538118362426758\n",
            "epoch: 95 loss: 9.537893295288086\n",
            "epoch: 96 loss: 9.537676811218262\n",
            "epoch: 97 loss: 9.537471771240234\n",
            "epoch: 98 loss: 9.537271499633789\n",
            "epoch: 99 loss: 9.537079811096191\n"
          ],
          "name": "stdout"
        }
      ]
    },
    {
      "cell_type": "code",
      "metadata": {
        "id": "JJ_IHxKVqB4A",
        "colab_type": "code",
        "colab": {
          "base_uri": "https://localhost:8080/",
          "height": 296
        },
        "outputId": "affeb349-3777-481c-b0f4-ff1e0a7120b4"
      },
      "source": [
        "plt.plot(range(epochs), losses)\n",
        "plt.ylabel('Loss')\n",
        "plt.xlabel('epoch')"
      ],
      "execution_count": 13,
      "outputs": [
        {
          "output_type": "execute_result",
          "data": {
            "text/plain": [
              "Text(0.5, 0, 'epoch')"
            ]
          },
          "metadata": {
            "tags": []
          },
          "execution_count": 13
        },
        {
          "output_type": "display_data",
          "data": {
            "image/png": "[encoded data removed]",
            "text/plain": [
              "<Figure size 432x288 with 1 Axes>"
            ]
          },
          "metadata": {
            "tags": [],
            "needs_background": "light"
          }
        }
      ]
    },
    {
      "cell_type": "code",
      "metadata": {
        "id": "D4CAuMzEslXi",
        "colab_type": "code",
        "colab": {
          "base_uri": "https://localhost:8080/",
          "height": 265
        },
        "outputId": "1e8119a9-eeb3-4991-c2cc-510421ab2ff5"
      },
      "source": [
        "plot_fit(\"Trained Model\")"
      ],
      "execution_count": 14,
      "outputs": [
        {
          "output_type": "display_data",
          "data": {
            "image/png": "[encoded data removed]",
            "text/plain": [
              "<Figure size 432x288 with 1 Axes>"
            ]
          },
          "metadata": {
            "tags": [],
            "needs_background": "light"
          }
        }
      ]
    },
    {
      "cell_type": "code",
      "metadata": {
        "id": "CjXnB7ZTcjUi",
        "colab_type": "code",
        "colab": {}
      },
      "source": [
        ""
      ],
      "execution_count": 0,
      "outputs": []
    }
  ]
}